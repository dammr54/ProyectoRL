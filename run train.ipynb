{
 "cells": [
  {
   "cell_type": "code",
   "execution_count": null,
   "id": "6c3e368a",
   "metadata": {},
   "outputs": [],
   "source": [
    "!pip install mujoco\n",
    "!pip install scipy\n",
    "!pip install gymnasium\n",
    "!pip install stable_baselines3"
   ]
  },
  {
   "cell_type": "code",
   "execution_count": null,
   "id": "718b5d5c",
   "metadata": {},
   "outputs": [],
   "source": [
    "!git clone https://github.com/dammr54/ProyectoRL"
   ]
  },
  {
   "cell_type": "code",
   "execution_count": null,
   "id": "6ed2e303",
   "metadata": {},
   "outputs": [],
   "source": [
    "%cd ProyectoRL"
   ]
  },
  {
   "cell_type": "code",
   "execution_count": null,
   "id": "0b933740",
   "metadata": {},
   "outputs": [],
   "source": [
    "!unzip franka_fr3_dual.zip"
   ]
  },
  {
   "cell_type": "markdown",
   "id": "495767e2",
   "metadata": {},
   "source": [
    "Para ejecutar el entrenamiento con la implementación de ```stable-baselines3``` ejecuta esta celda."
   ]
  },
  {
   "cell_type": "code",
   "execution_count": null,
   "id": "161299a7",
   "metadata": {},
   "outputs": [],
   "source": [
    "!python3 train_stable_baselines.py"
   ]
  },
  {
   "cell_type": "markdown",
   "id": "26553217",
   "metadata": {},
   "source": [
    "Para ejecutar el entrenamiento con **nuestra** implementación ejecuta esta celda."
   ]
  },
  {
   "cell_type": "code",
   "execution_count": null,
   "id": "dca5c1eb",
   "metadata": {},
   "outputs": [],
   "source": [
    "!python3 train.py"
   ]
  }
 ],
 "metadata": {
  "kernelspec": {
   "display_name": "Python 3 (ipykernel)",
   "language": "python",
   "name": "python3"
  },
  "language_info": {
   "codemirror_mode": {
    "name": "ipython",
    "version": 3
   },
   "file_extension": ".py",
   "mimetype": "text/x-python",
   "name": "python",
   "nbconvert_exporter": "python",
   "pygments_lexer": "ipython3",
   "version": "3.10.9"
  }
 },
 "nbformat": 4,
 "nbformat_minor": 5
}
